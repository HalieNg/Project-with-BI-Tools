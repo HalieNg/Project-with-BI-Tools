{
 "cells": [
  {
   "cell_type": "code",
   "execution_count": 1,
   "id": "0b16b673",
   "metadata": {},
   "outputs": [],
   "source": [
    "import pandas as pd"
   ]
  },
  {
   "cell_type": "code",
   "execution_count": 2,
   "id": "85d6aa6d",
   "metadata": {},
   "outputs": [],
   "source": [
    "prices = pd.read_csv(\"prices.csv\")\n",
    "sales = pd.read_csv(\"sales.csv\")"
   ]
  },
  {
   "cell_type": "code",
   "execution_count": 3,
   "id": "01e8cafd",
   "metadata": {},
   "outputs": [],
   "source": [
    "pd.DataFrame(prices)\n",
    "prices['date'] = pd.to_datetime(prices['updated_at'])\n",
    "prices_sorted = prices.sort_values('date')"
   ]
  },
  {
   "cell_type": "code",
   "execution_count": 4,
   "id": "e8258388",
   "metadata": {},
   "outputs": [],
   "source": [
    "pd.DataFrame(sales)\n",
    "sales['date'] = pd.to_datetime(sales['ordered_at'])\n",
    "sales_sorted = sales.sort_values('date')"
   ]
  },
  {
   "cell_type": "code",
   "execution_count": 5,
   "id": "45bd9e21",
   "metadata": {
    "scrolled": true
   },
   "outputs": [],
   "source": [
    "sales_revenue = pd.merge_asof(sales_sorted, prices_sorted, on='date', by='product_id')"
   ]
  },
  {
   "cell_type": "code",
   "execution_count": 6,
   "id": "e0e1e490",
   "metadata": {},
   "outputs": [],
   "source": [
    "sales_revenue['old_price'].fillna(method='bfill', inplace=True)"
   ]
  },
  {
   "cell_type": "code",
   "execution_count": 7,
   "id": "824598ea",
   "metadata": {},
   "outputs": [],
   "source": [
    "Total_revenue_at_old_price = sales_revenue.groupby('product_id').agg({'old_price': 'sum'})"
   ]
  },
  {
   "cell_type": "code",
   "execution_count": 8,
   "id": "1c7b1222",
   "metadata": {},
   "outputs": [],
   "source": [
    "Total_revenue_at_new_price = sales_revenue.groupby('product_id').agg({'new_price': 'sum'})"
   ]
  },
  {
   "cell_type": "code",
   "execution_count": 9,
   "id": "ceacf4d5",
   "metadata": {},
   "outputs": [
    {
     "name": "stdout",
     "output_type": "stream",
     "text": [
      "            old_price\n",
      "product_id           \n",
      "64          1080000.0\n",
      "3954203      866900.0\n",
      "3998909      256500.0\n",
      "4085861     8495000.0\n"
     ]
    }
   ],
   "source": [
    "print(Total_revenue_at_old_price)"
   ]
  },
  {
   "cell_type": "code",
   "execution_count": 10,
   "id": "1da2df19",
   "metadata": {},
   "outputs": [
    {
     "name": "stdout",
     "output_type": "stream",
     "text": [
      "            new_price\n",
      "product_id           \n",
      "64           956000.0\n",
      "3954203      877500.0\n",
      "3998909      264000.0\n",
      "4085861     7956000.0\n"
     ]
    }
   ],
   "source": [
    "print(Total_revenue_at_new_price)"
   ]
  }
 ],
 "metadata": {
  "kernelspec": {
   "display_name": "Python 3 (ipykernel)",
   "language": "python",
   "name": "python3"
  },
  "language_info": {
   "codemirror_mode": {
    "name": "ipython",
    "version": 3
   },
   "file_extension": ".py",
   "mimetype": "text/x-python",
   "name": "python",
   "nbconvert_exporter": "python",
   "pygments_lexer": "ipython3",
   "version": "3.9.7"
  }
 },
 "nbformat": 4,
 "nbformat_minor": 5
}
